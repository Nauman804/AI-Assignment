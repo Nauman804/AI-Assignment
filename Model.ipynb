{
 "cells": [
  {
   "cell_type": "markdown",
   "id": "a1ff46de",
   "metadata": {},
   "source": [
    "#  #  Step 4: Model Training (using SVM) "
   ]
  },
  {
   "cell_type": "code",
   "execution_count": 15,
   "id": "55aaf620",
   "metadata": {},
   "outputs": [
    {
     "name": "stdout",
     "output_type": "stream",
     "text": [
      "\n",
      " Model training completed.\n",
      "\n",
      " Accuracy: 0.7541\n",
      "\n",
      " Classification Report:\n",
      "              precision    recall  f1-score   support\n",
      "\n",
      "           0       0.81      0.69      0.75        32\n",
      "           1       0.71      0.83      0.76        29\n",
      "\n",
      "    accuracy                           0.75        61\n",
      "   macro avg       0.76      0.76      0.75        61\n",
      "weighted avg       0.76      0.75      0.75        61\n",
      "\n",
      "\n",
      " Confusion Matrix:\n",
      "[[22 10]\n",
      " [ 5 24]]\n",
      "\n",
      " Model saved successfully as heart_svm.pkl\n"
     ]
    }
   ],
   "source": [
    "import pandas as pd\n",
    "from sklearn.svm import SVC                   \n",
    "from sklearn.metrics import accuracy_score, classification_report, confusion_matrix\n",
    "from sklearn.model_selection import train_test_split\n",
    "import pickle\n",
    "\n",
    "class ModelTraining:\n",
    "    def __init__(self, X_train, X_test, y_train, y_test):\n",
    "        self.X_train = X_train\n",
    "        self.X_test = X_test\n",
    "        self.y_train = y_train\n",
    "        self.y_test = y_test\n",
    "        self.model = None\n",
    "\n",
    "    def train_model(self, kernel='linear'):\n",
    "        \"\"\"Train SVM model\"\"\"\n",
    "        self.model = SVC(kernel=kernel, random_state=42)\n",
    "        self.model.fit(self.X_train, self.y_train)\n",
    "        print(\"\\n Model training completed.\")\n",
    "        return self.model\n",
    "\n",
    "    def evaluate_model(self):\n",
    "        \"\"\"Evaluate model on test set\"\"\"\n",
    "        y_pred = self.model.predict(self.X_test)\n",
    "\n",
    "        acc = accuracy_score(self.y_test, y_pred)\n",
    "        report = classification_report(self.y_test, y_pred)\n",
    "        cm = confusion_matrix(self.y_test, y_pred)\n",
    "\n",
    "        print(f\"\\n Accuracy: {acc:.4f}\")\n",
    "        print(\"\\n Classification Report:\")\n",
    "        print(report)\n",
    "        print(\"\\n Confusion Matrix:\")\n",
    "        print(cm)\n",
    "\n",
    "        return acc, report, cm\n",
    "\n",
    "\n",
    "if __name__ == \"__main__\":\n",
    "    df = pd.read_csv(\"cleaned_heart_.csv\")\n",
    "\n",
    "    X = df.drop(columns=['target'])\n",
    "    y = df['target']\n",
    "\n",
    "    X_train, X_test, y_train, y_test = train_test_split(X, y, test_size=0.2, random_state=42)\n",
    "\n",
    "    trainer = ModelTraining(X_train, X_test, y_train, y_test)\n",
    "    trainer.train_model(kernel='linear')\n",
    "    trainer.evaluate_model()\n",
    "\n",
    "    with open(\"heart_svm.pkl\", \"wb\") as f:\n",
    "        pickle.dump(trainer.model, f)\n",
    "    print(\"\\n Model saved successfully as heart_svm.pkl\")\n"
   ]
  },
  {
   "cell_type": "markdown",
   "id": "d546c312",
   "metadata": {},
   "source": [
    "# Step 5: Model Saving using Pickle "
   ]
  },
  {
   "cell_type": "code",
   "execution_count": 16,
   "id": "1019a9cf",
   "metadata": {},
   "outputs": [
    {
     "name": "stdout",
     "output_type": "stream",
     "text": [
      "\n",
      " Model saved successfully as heart_svm.pkl\n",
      "\n",
      " Model loaded successfully from heart_svm.pkl\n",
      "\n",
      " Sample Predictions on first 5 rows of Test Set:\n",
      "[1 1 0 1 1]\n"
     ]
    }
   ],
   "source": [
    "import pickle\n",
    "\n",
    "class ModelPersistence:\n",
    "    def __init__(self, model):\n",
    "        self.model = model\n",
    "\n",
    "    def save_model(self, filename=\"svm_model.pkl\"):\n",
    "        \"\"\"Save trained model to a pickle file\"\"\"\n",
    "        with open(filename, \"wb\") as file:\n",
    "            pickle.dump(self.model, file)\n",
    "        print(f\"\\n Model saved successfully as {filename}\")\n",
    "\n",
    "    @staticmethod\n",
    "    def load_model(filename=\"svm_model.pkl\"):\n",
    "        \"\"\"Load model from pickle file\"\"\"\n",
    "        with open(filename, \"rb\") as file:\n",
    "            model = pickle.load(file)\n",
    "        print(f\"\\n Model loaded successfully from {filename}\")\n",
    "        return model\n",
    "\n",
    "\n",
    "if __name__ == \"__main__\":\n",
    "    import pandas as pd\n",
    "    from sklearn.model_selection import train_test_split\n",
    "    from sklearn.svm import SVC\n",
    "\n",
    "    df = pd.read_csv(r\"cleaned_heart_.csv\")\n",
    "    X = df.drop(columns=['target'])\n",
    "    y = df['target']\n",
    "\n",
    "    X_train, X_test, y_train, y_test = train_test_split(X, y, test_size=0.2, random_state=42)\n",
    "\n",
    "    model = SVC(kernel='linear', random_state=42)\n",
    "    model.fit(X_train, y_train)\n",
    "\n",
    "    saver = ModelPersistence(model)\n",
    "    saver.save_model(\"heart_svm.pkl\")\n",
    "\n",
    "    loaded_model = ModelPersistence.load_model(\"heart_svm.pkl\")\n",
    "\n",
    "    sample_pred = loaded_model.predict(X_test[:5])\n",
    "    print(\"\\n Sample Predictions on first 5 rows of Test Set:\")\n",
    "    print(sample_pred)"
   ]
  }
 ],
 "metadata": {
  "kernelspec": {
   "display_name": "base",
   "language": "python",
   "name": "python3"
  },
  "language_info": {
   "codemirror_mode": {
    "name": "ipython",
    "version": 3
   },
   "file_extension": ".py",
   "mimetype": "text/x-python",
   "name": "python",
   "nbconvert_exporter": "python",
   "pygments_lexer": "ipython3",
   "version": "3.12.7"
  }
 },
 "nbformat": 4,
 "nbformat_minor": 5
}
